{
 "cells": [
  {
   "cell_type": "markdown",
   "id": "5c3236bf",
   "metadata": {},
   "source": [
    "### 1. Define a function which will return Max of three numbers"
   ]
  },
  {
   "cell_type": "code",
   "execution_count": 19,
   "id": "c17cf19c",
   "metadata": {},
   "outputs": [],
   "source": [
    "def max_of_nums(range_num = 3):\n",
    "    list_of_nums = []\n",
    "    for i in range(range_num):\n",
    "        num = int(input(\"Enter {} number : \".format(i)))\n",
    "        list_of_nums.append(num)\n",
    "    print(max(list_of_nums))"
   ]
  },
  {
   "cell_type": "code",
   "execution_count": 20,
   "id": "7d4cbdba",
   "metadata": {},
   "outputs": [
    {
     "name": "stdout",
     "output_type": "stream",
     "text": [
      "Enter 0 number : 44\n",
      "Enter 1 number : 55\n",
      "Enter 2 number : 48\n",
      "55\n"
     ]
    }
   ],
   "source": [
    "max_of_nums()"
   ]
  },
  {
   "cell_type": "markdown",
   "id": "28f80ba2",
   "metadata": {},
   "source": [
    "### 2. Define a Python Function to reverse a string."
   ]
  },
  {
   "cell_type": "code",
   "execution_count": 23,
   "id": "6fe5b763",
   "metadata": {},
   "outputs": [
    {
     "name": "stdout",
     "output_type": "stream",
     "text": [
      "Enter your string :qamar\n"
     ]
    },
    {
     "data": {
      "text/plain": [
       "'ramaq'"
      ]
     },
     "execution_count": 23,
     "metadata": {},
     "output_type": "execute_result"
    }
   ],
   "source": [
    "def rev_str():\n",
    "    user_str = input(\"Enter your string :\")\n",
    "    return user_str[::-1]\n",
    "rev_str()"
   ]
  },
  {
   "cell_type": "markdown",
   "id": "26a4f3a2",
   "metadata": {},
   "source": [
    "### 3. Write a Python program to define a function that accepts 2 values and return its sum, subtraction and multiplication."
   ]
  },
  {
   "cell_type": "code",
   "execution_count": 31,
   "id": "25ff7831",
   "metadata": {},
   "outputs": [
    {
     "name": "stdout",
     "output_type": "stream",
     "text": [
      "Enter 1st number : 8\n",
      "Enter 2nd number : 2\n",
      "What you wanted do ? mul\n",
      "16\n"
     ]
    }
   ],
   "source": [
    "def add(a,b):\n",
    "    print(a+b)\n",
    "def sub(a,b):\n",
    "    print(a-b)\n",
    "\n",
    "def multi(a,b):\n",
    "    print(a*b)\n",
    "\n",
    "\n",
    "a = int(input(\"Enter 1st number : \"))\n",
    "b = int(input(\"Enter 2nd number : \"))\n",
    "que = input(\"What you wanted do ? \").lower()\n",
    "if que == \"add\":\n",
    "    add(a,b)\n",
    "elif que == \"sub\":\n",
    "    sub(a,b)\n",
    "elif que == \"mul\":\n",
    "    multi(a,b)\n",
    "else:\n",
    "    print(\"not correct input \")\n",
    "    "
   ]
  },
  {
   "cell_type": "markdown",
   "id": "af03d2b6",
   "metadata": {},
   "source": [
    "### 4. Define a function that accepts roll number and returns whether the student is present or absent."
   ]
  },
  {
   "cell_type": "code",
   "execution_count": 39,
   "id": "57af6956",
   "metadata": {},
   "outputs": [
    {
     "name": "stdout",
     "output_type": "stream",
     "text": [
      "Name of student :qmr\n",
      "Roll number :11\n",
      "Name of student :shan\n",
      "Roll number :12\n",
      "Name of student :junaid\n",
      "Roll number :13\n",
      "{'qmr': 11, 'shan': 12, 'junaid': 13}\n",
      "Student roll number : 12\n",
      "12 is present.\n"
     ]
    }
   ],
   "source": [
    "students = {input(\"Name of student :\"):int(input(\"Roll number :\")) for i in range(3)}\n",
    "print(students)\n",
    "student_roll_no = int(input(\"Student roll number : \"))\n",
    "if student_roll_no in students.values():\n",
    "    print(\"{} is present.\".format(students[student_roll_no]))"
   ]
  },
  {
   "cell_type": "markdown",
   "id": "10154401",
   "metadata": {},
   "source": [
    "### 5. Define a function in python that accepts n values and returns the maximum of n numbers"
   ]
  },
  {
   "cell_type": "code",
   "execution_count": 2,
   "id": "a7d0bd1a",
   "metadata": {},
   "outputs": [
    {
     "name": "stdout",
     "output_type": "stream",
     "text": [
      "22 is the maximum of all the numbers\n"
     ]
    }
   ],
   "source": [
    "def maxof(*nums):\n",
    "    nums = list(nums)\n",
    "    a = 0\n",
    "    for i in nums:\n",
    "        if a>i or a == i:\n",
    "            a=a\n",
    "        elif a<i:\n",
    "            a=i\n",
    "    print(\"{} is the maximum of all the numbers\".format(a))\n",
    "maxof(1,14,22,5,6,7,9,3)"
   ]
  },
  {
   "cell_type": "markdown",
   "id": "190895a7",
   "metadata": {},
   "source": [
    "### 6. Define a function which counts vowels and consonant in a word.\n"
   ]
  },
  {
   "cell_type": "code",
   "execution_count": 57,
   "id": "6b40146e",
   "metadata": {},
   "outputs": [
    {
     "name": "stdout",
     "output_type": "stream",
     "text": [
      "Type ur word : Engineer Muhammad Ali Mirza\n",
      "13 are consonants 11 are vowels\n"
     ]
    }
   ],
   "source": [
    "\n",
    "word = input(\"Type ur word : \")\n",
    "\n",
    "def counts_vo_co():\n",
    "    vowels = \"aeiou\"\n",
    "    count_of_vowels = 0\n",
    "    consonant = \"bcdfghjklmnpqrstvwxyz\"\n",
    "    count_of_consonants = 0\n",
    "    for i in word:\n",
    "        if (i.lower()) in consonant:\n",
    "            count_of_consonants+=1\n",
    "        elif (i.lower()) in vowels:\n",
    "            count_of_vowels+=1\n",
    "    print(count_of_consonants,\"are consonants\",count_of_vowels,\"are vowels\")\n",
    "\n",
    "counts_vo_co()"
   ]
  },
  {
   "cell_type": "markdown",
   "id": "85115a4b",
   "metadata": {},
   "source": [
    "### 7. Define a function that returns Factorial of a number"
   ]
  },
  {
   "cell_type": "code",
   "execution_count": 63,
   "id": "840e6bcd",
   "metadata": {},
   "outputs": [
    {
     "name": "stdout",
     "output_type": "stream",
     "text": [
      "Enter your number : 5\n",
      "Factorial of 5 is 120\n"
     ]
    }
   ],
   "source": [
    "num = int(input(\"Enter your number : \"))\n",
    "def factorial():\n",
    "    a = 1\n",
    "    for i in range(2,num+1):\n",
    "        a=i*a\n",
    "    print(\"Factorial of {} is {}\".format(num,a))\n",
    "factorial()"
   ]
  },
  {
   "cell_type": "markdown",
   "id": "781c0816",
   "metadata": {},
   "source": [
    "### 8. Define a function that accepts radius and returns the area of a circle."
   ]
  },
  {
   "cell_type": "code",
   "execution_count": 73,
   "id": "921838e2",
   "metadata": {},
   "outputs": [
    {
     "name": "stdout",
     "output_type": "stream",
     "text": [
      "Enter the radius of circle :5\n",
      "Area of circle using pi*r^2 formula is 78.5\n"
     ]
    }
   ],
   "source": [
    "def area_of_circle():\n",
    "    radius = int(input(\"Enter the radius of circle :\"))\n",
    "    pi = 3.14\n",
    "    print(\"Area of circle using pi*r^2 formula is\",pi*radius**2)\n",
    "area_of_circle()"
   ]
  },
  {
   "cell_type": "markdown",
   "id": "c2d2ea58",
   "metadata": {},
   "source": [
    "### 9. Define a function that takes a number as a parameter and check the number is prime or not."
   ]
  },
  {
   "cell_type": "code",
   "execution_count": 9,
   "id": "ec018e2a",
   "metadata": {},
   "outputs": [
    {
     "name": "stdout",
     "output_type": "stream",
     "text": [
      "Enter your number : 57\n",
      "It's not a prime numbr \n"
     ]
    }
   ],
   "source": [
    "def checkprime():\n",
    "    num = int(input(\"Enter your number : \"))\n",
    "    for i in range(2,num):\n",
    "        if num%i==0:\n",
    "            print(\"It's not a prime numbr \")\n",
    "            break\n",
    "    else:\n",
    "        print(\"It's a prime numbr \")\n",
    "checkprime()"
   ]
  },
  {
   "cell_type": "markdown",
   "id": "e0c7ca42",
   "metadata": {},
   "source": [
    "### 10.Mary wants to run a 25-mile marathon. When she attempts to sign up for the marathon, she notices the sign-up sheet doesn't directly state the marathon's length. Instead, the marathon's length is listed in small, different portions. Help Mary find out how long the marathon actually is. So create a function that<br>** Return True if the marathon is 25 miles long, otherwise, return<br>False.<br>Examples :-<br>marathon_distance([1, 2, 3, 4]) ➞ False<br>marathon_distance([1, 9, 5, 8, 2]) ➞ True<br>marathon_distance([-6, 15, 4]) ➞ True<br>Notes Items in the list will always be integers<br>. Items in the list may be negative or positive, but since negative<br>distance isn't possible, find a way to convert negative integers into positive integers."
   ]
  },
  {
   "cell_type": "code",
   "execution_count": 38,
   "id": "38d3d347",
   "metadata": {},
   "outputs": [
    {
     "name": "stdout",
     "output_type": "stream",
     "text": [
      "Enter the range : 5\n",
      "enter the value : 1\n",
      "enter the value : 9\n",
      "enter the value : 5\n",
      "enter the value : 8\n",
      "enter the value : 2\n"
     ]
    },
    {
     "data": {
      "text/plain": [
       "[1, 9, 5, 8, 2]"
      ]
     },
     "execution_count": 38,
     "metadata": {},
     "output_type": "execute_result"
    }
   ],
   "source": [
    "length_portion = [int(input(\"enter the value : \")) for i in range(int(input(\"Enter the range : \")))]\n",
    "length_portion"
   ]
  },
  {
   "cell_type": "code",
   "execution_count": 39,
   "id": "52cdabc5",
   "metadata": {},
   "outputs": [
    {
     "data": {
      "text/plain": [
       "True"
      ]
     },
     "execution_count": 39,
     "metadata": {},
     "output_type": "execute_result"
    }
   ],
   "source": [
    "def marathon_distance():\n",
    "    for i in range(len(length_portion)):\n",
    "        if length_portion[i] < 0:\n",
    "            length_portion[i]=(length_portion[i]*-1)\n",
    "        if sum(length_portion)==25:\n",
    "            return True\n",
    "        else:\n",
    "            return False\n",
    "            \n",
    "marathon_distance()         "
   ]
  },
  {
   "cell_type": "markdown",
   "id": "1d8174dc",
   "metadata": {},
   "source": [
    "### 11. Create a function that takes a number and returns True if the number is automorphic, False if it isn't.<br>** number n is automorphic if n^2 ends in n.<br>Example:<br>n=5, n^2=25<br>so 5 is an automorphic"
   ]
  },
  {
   "cell_type": "code",
   "execution_count": 80,
   "id": "33314c74",
   "metadata": {},
   "outputs": [],
   "source": [
    "# automorphic = lambda x:\"Automorphic\" if str(int(x)**2)[-len(str(x)):] == x else \"Not automorphic\""
   ]
  },
  {
   "cell_type": "code",
   "execution_count": 82,
   "id": "cf60c112",
   "metadata": {},
   "outputs": [],
   "source": [
    "#print(automorphic(5))"
   ]
  },
  {
   "cell_type": "code",
   "execution_count": 69,
   "id": "d4f05991",
   "metadata": {},
   "outputs": [
    {
     "name": "stdout",
     "output_type": "stream",
     "text": [
      "Enter the integer :5\n",
      "25\n"
     ]
    },
    {
     "data": {
      "text/plain": [
       "True"
      ]
     },
     "execution_count": 69,
     "metadata": {},
     "output_type": "execute_result"
    }
   ],
   "source": [
    "def check_automorphic():\n",
    "    num = input(\"Enter the integer :\")\n",
    "    print(int(num)**2)\n",
    "    if str(int(num)**2)[-len(num):]==num:\n",
    "        return True\n",
    "    return False\n",
    "check_automorphic()"
   ]
  },
  {
   "cell_type": "markdown",
   "id": "c18863a4",
   "metadata": {},
   "source": [
    "### 12) Create a function, that will take given a, b, c, and do the following: <br>Add a to itself b times and Check if the result is divisible by c. and return true if it is divisible by c or false<br>Example:<br>A=1<br>B=2<br>C=2<br>So output is True because 1+1=2 and 2/2=0"
   ]
  },
  {
   "cell_type": "code",
   "execution_count": 103,
   "id": "db7a5989",
   "metadata": {},
   "outputs": [
    {
     "data": {
      "text/plain": [
       "False"
      ]
     },
     "execution_count": 103,
     "metadata": {},
     "output_type": "execute_result"
    }
   ],
   "source": [
    "def operation(a,b,c):\n",
    "    if ((a*1)*b)%2==0:\n",
    "        return True\n",
    "    return False\n",
    "operation(3,3,2)"
   ]
  },
  {
   "cell_type": "markdown",
   "id": "a4d34d1b",
   "metadata": {},
   "source": [
    "### 13) Create a function that changes specific words into emoticons. Given a sentence as a string, replace the words smile, grin, sad and mad with their corresponding emoticons.<br>word emoticon<br>smile :D<br>grin :)<br>sad :(<br>mad :P<br>Examples:<br>functionname(\"Make me smile\") ➞ \"Make me :D\"<br>functionname (\"Make me grin\") ➞ \"Make me :)\"<br>functionname (\"Make me sad\") ➞ \"Make me :(\""
   ]
  },
  {
   "cell_type": "code",
   "execution_count": 105,
   "id": "5a0562a0",
   "metadata": {},
   "outputs": [],
   "source": [
    "import emoji"
   ]
  },
  {
   "cell_type": "code",
   "execution_count": 128,
   "id": "819b34c5",
   "metadata": {},
   "outputs": [
    {
     "name": "stdout",
     "output_type": "stream",
     "text": [
      "Enter you string(must include 'smile','grin' and 'sad'): make me grin\n",
      "make me 😀\n"
     ]
    }
   ],
   "source": [
    "def with_emoji():\n",
    "    sen = input(\"Enter you string(must include 'smile','grin' and 'sad'): \")\n",
    "    if \"smile\" in sen:\n",
    "        print(\"make me \\U0001F60A\")\n",
    "    elif \"grin\" in sen:\n",
    "        print(\"make me \\U0001F600\")\n",
    "    elif \"sad\" in sen:\n",
    "        print(\"make me \\U0001F61E\")\n",
    "    else:\n",
    "        print(\"Must str in sentence are not present \")\n",
    "        \n",
    "with_emoji()"
   ]
  },
  {
   "cell_type": "code",
   "execution_count": 129,
   "id": "3e6b29d0",
   "metadata": {},
   "outputs": [],
   "source": [
    "# with_emoji = lambda sen : \"make me \\U0001F60A\" if \"smile\" in sen else \"make me \\U0001F600\" if \"grin\" in sen"
   ]
  },
  {
   "cell_type": "markdown",
   "id": "655e3d69",
   "metadata": {},
   "source": [
    "### 14) Write a Python program to square and cube every number in a given list of integers using Lambda"
   ]
  },
  {
   "cell_type": "code",
   "execution_count": 134,
   "id": "06ba26f3",
   "metadata": {},
   "outputs": [
    {
     "data": {
      "text/plain": [
       "[3, 1, 9, 7, 8]"
      ]
     },
     "execution_count": 134,
     "metadata": {},
     "output_type": "execute_result"
    }
   ],
   "source": [
    "import random as rd\n",
    "lst = [rd.randint(1,10) for i in range(5)]\n",
    "lst"
   ]
  },
  {
   "cell_type": "code",
   "execution_count": 156,
   "id": "ed44c7d5",
   "metadata": {},
   "outputs": [
    {
     "data": {
      "text/plain": [
       "[9, 1, 81, 49, 64]"
      ]
     },
     "execution_count": 156,
     "metadata": {},
     "output_type": "execute_result"
    }
   ],
   "source": [
    "list(map(lambda x:(x**2),lst))"
   ]
  },
  {
   "cell_type": "code",
   "execution_count": 157,
   "id": "28f330c2",
   "metadata": {},
   "outputs": [
    {
     "data": {
      "text/plain": [
       "[27, 1, 729, 343, 512]"
      ]
     },
     "execution_count": 157,
     "metadata": {},
     "output_type": "execute_result"
    }
   ],
   "source": [
    "list(map(lambda x:(x**3),lst))"
   ]
  },
  {
   "cell_type": "markdown",
   "id": "1edd85d5",
   "metadata": {},
   "source": [
    "### 15) Write a Python program to check whether a given string is number or not using Lambda"
   ]
  },
  {
   "cell_type": "code",
   "execution_count": 158,
   "id": "f1ca9bc1",
   "metadata": {},
   "outputs": [
    {
     "data": {
      "text/plain": [
       "True"
      ]
     },
     "execution_count": 158,
     "metadata": {},
     "output_type": "execute_result"
    }
   ],
   "source": [
    "a='12'\n",
    "a.isdigit()"
   ]
  },
  {
   "cell_type": "code",
   "execution_count": 162,
   "id": "837fb6d7",
   "metadata": {},
   "outputs": [],
   "source": [
    "check_digit=lambda x:\"Yes it is a number\" if x.isdigit() else \"Not a number\""
   ]
  },
  {
   "cell_type": "code",
   "execution_count": 163,
   "id": "bdbd5701",
   "metadata": {},
   "outputs": [
    {
     "data": {
      "text/plain": [
       "'Yes it is a number'"
      ]
     },
     "execution_count": 163,
     "metadata": {},
     "output_type": "execute_result"
    }
   ],
   "source": [
    "check_digit('12')"
   ]
  },
  {
   "cell_type": "code",
   "execution_count": 164,
   "id": "c2393e20",
   "metadata": {},
   "outputs": [
    {
     "data": {
      "text/plain": [
       "'Not a number'"
      ]
     },
     "execution_count": 164,
     "metadata": {},
     "output_type": "execute_result"
    }
   ],
   "source": [
    "check_digit('12s')"
   ]
  },
  {
   "cell_type": "code",
   "execution_count": null,
   "id": "efbefeba",
   "metadata": {},
   "outputs": [],
   "source": []
  }
 ],
 "metadata": {
  "kernelspec": {
   "display_name": "Python 3",
   "language": "python",
   "name": "python3"
  },
  "language_info": {
   "codemirror_mode": {
    "name": "ipython",
    "version": 3
   },
   "file_extension": ".py",
   "mimetype": "text/x-python",
   "name": "python",
   "nbconvert_exporter": "python",
   "pygments_lexer": "ipython3",
   "version": "3.8.10"
  }
 },
 "nbformat": 4,
 "nbformat_minor": 5
}
